{
 "cells": [
  {
   "cell_type": "markdown",
   "id": "later-blond",
   "metadata": {
    "toc": true
   },
   "source": [
    "<h1>Table of Contents<span class=\"tocSkip\"></span></h1>\n",
    "<div class=\"toc\"><ul class=\"toc-item\"><li><span><a href=\"#Pyspark로-csv-파일-읽어들어오기\" data-toc-modified-id=\"Pyspark로-csv-파일-읽어들어오기-1\"><span class=\"toc-item-num\">1&nbsp;&nbsp;</span>Pyspark로 csv 파일 읽어들어오기</a></span></li><li><span><a href=\"#Train,-Test-split-하기\" data-toc-modified-id=\"Train,-Test-split-하기-2\"><span class=\"toc-item-num\">2&nbsp;&nbsp;</span>Train, Test split 하기</a></span></li><li><span><a href=\"#Scaling-하기\" data-toc-modified-id=\"Scaling-하기-3\"><span class=\"toc-item-num\">3&nbsp;&nbsp;</span>Scaling 하기</a></span></li></ul></div>"
   ]
  },
  {
   "cell_type": "code",
   "execution_count": 1,
   "id": "renewable-radical",
   "metadata": {},
   "outputs": [
    {
     "data": {
      "text/plain": [
       "(2916, 18)"
      ]
     },
     "execution_count": 1,
     "metadata": {},
     "output_type": "execute_result"
    }
   ],
   "source": [
    "import pandas as pd\n",
    "import numpy as np\n",
    "import os\n",
    "import warnings\n",
    "warnings.filterwarnings(action='ignore')\n",
    "os.chdir('/Users/younghun/Desktop/gitrepo/data/woochuri/')\n",
    "\n",
    "df = pd.read_csv('./woochuri_final_data.csv')\n",
    "df.shape"
   ]
  },
  {
   "cell_type": "code",
   "execution_count": 2,
   "id": "promotional-roberts",
   "metadata": {},
   "outputs": [],
   "source": [
    "# 다중공선성 변수 제거\n",
    "multi_cols = ['최소상대습도', '최저기온', '평균기온', '1시간최다일사량']\n",
    "dataset = df.drop(multi_cols, axis=1)\n",
    "# 날짜 인덱스로 옮기기\n",
    "dataset['날짜'] = pd.to_datetime(dataset['날짜'])\n",
    "dataset = dataset.set_index('날짜')\n",
    "\n",
    "# 우선 매출이 0인 값들 요일 평균값으로 대체\n",
    "non_zero_sales = dataset[dataset['일매출'] != 0]\n",
    "days = non_zero_sales.groupby('요일')['일매출'].mean().index\n",
    "means = non_zero_sales.groupby('요일')['일매출'].mean().values\n",
    "weekdays_means = dict(zip(days, means))\n",
    "\n",
    "def replace_zero_sales(df):\n",
    "    if df['일매출'] == 0:\n",
    "        df['일매출'] = weekdays_means[df['요일']]\n",
    "    return df\n",
    "\n",
    "dataset = dataset.apply(replace_zero_sales, axis=1)\n",
    "\n",
    "# 요일변수 요일별 매출 평균값 가중치로 변경\n",
    "total = dataset.groupby('요일')['일매출'].mean().values.sum()\n",
    "weekdays = dataset.groupby('요일')['일매출'].mean().index\n",
    "values = np.round(dataset.groupby('요일')['일매출'].mean().values / total * 100, 2)\n",
    "weekdays_dict = dict(zip(weekdays, values))\n",
    "\n",
    "dataset['요일'] = dataset['요일'].map(weekdays_dict)"
   ]
  },
  {
   "cell_type": "code",
   "execution_count": 3,
   "id": "broad-vegetarian",
   "metadata": {},
   "outputs": [],
   "source": [
    "## Target 값 만드는 코드\n",
    "# dataset['target'] = np.append(np.array(dataset.iloc[1:, 1]), 0)"
   ]
  },
  {
   "cell_type": "code",
   "execution_count": 4,
   "id": "searching-bishop",
   "metadata": {},
   "outputs": [],
   "source": [
    "# PySpark로 csv파일로 불러오기 위해 전처리해준 csv파일 저장\n",
    "dataset = dataset.reset_index()\n",
    "dataset.to_csv('./pyspark_df.csv', index=False)"
   ]
  },
  {
   "cell_type": "markdown",
   "id": "imported-maintenance",
   "metadata": {},
   "source": [
    "---\n",
    "## Pyspark로 csv 파일 읽어들어오기"
   ]
  },
  {
   "cell_type": "code",
   "execution_count": 5,
   "id": "functional-teens",
   "metadata": {},
   "outputs": [],
   "source": [
    "from pyspark.sql import SparkSession, SQLContext\n",
    "from pyspark.sql.types import *"
   ]
  },
  {
   "cell_type": "code",
   "execution_count": 6,
   "id": "overhead-convertible",
   "metadata": {},
   "outputs": [],
   "source": [
    "spark = SparkSession.builder.master('younghun')\\\n",
    "        .appName('Woochuri-Regression-Pyspark')\\\n",
    "        .getOrCreate()"
   ]
  },
  {
   "cell_type": "code",
   "execution_count": 7,
   "id": "sound-creek",
   "metadata": {},
   "outputs": [
    {
     "name": "stdout",
     "output_type": "stream",
     "text": [
      "root\n",
      " |-- 날짜: timestamp (nullable = true)\n",
      " |-- 요일: float (nullable = true)\n",
      " |-- 일매출: float (nullable = true)\n",
      " |-- 설_추석_가중치: float (nullable = true)\n",
      " |-- 일반공휴일가중치: float (nullable = true)\n",
      " |-- 한우가격: float (nullable = true)\n",
      " |-- 육우가격: float (nullable = true)\n",
      " |-- 돼지탕박가격: float (nullable = true)\n",
      " |-- 평균상대습도: float (nullable = true)\n",
      " |-- 최고기온: float (nullable = true)\n",
      " |-- 평균풍속: float (nullable = true)\n",
      " |-- 최대풍속: float (nullable = true)\n",
      " |-- 일사량: float (nullable = true)\n",
      " |-- 일강수량: float (nullable = true)\n",
      "\n"
     ]
    }
   ],
   "source": [
    "# 날짜만 빼고 모두 float형임\n",
    "pd_columns = dataset.columns[1:]\n",
    "# 마지막 인자 True는 nullable에 대한 인자임(결측치 여부 명시해주기)\n",
    "datetimes = [StructField('날짜', TimestampType(), False)]\n",
    "fields = [StructField(field, FloatType(), False) for field in pd_columns]\n",
    "fields = datetimes + fields\n",
    "schema = StructType(fields)\n",
    "\n",
    "df = spark.read.option(\"header\", True)\\\n",
    "     .csv('/Users/younghun/Desktop/gitrepo/data/woochuri/pyspark_df.csv',\n",
    "         schema=schema)\n",
    "df.printSchema()"
   ]
  },
  {
   "cell_type": "markdown",
   "id": "wanted-crazy",
   "metadata": {},
   "source": [
    "## Train, Test split 하기"
   ]
  },
  {
   "cell_type": "code",
   "execution_count": 34,
   "id": "german-reduction",
   "metadata": {},
   "outputs": [],
   "source": [
    "from pyspark.sql import Row, functions as F\n",
    "from pyspark.sql import Window\n",
    "\n",
    "df = df.withColumn('rank', F.row_number().over(Window.partitionBy().orderBy(\"날짜\")))"
   ]
  },
  {
   "cell_type": "code",
   "execution_count": 44,
   "id": "promotional-malta",
   "metadata": {},
   "outputs": [
    {
     "name": "stdout",
     "output_type": "stream",
     "text": [
      "Train rows: 2915\n",
      "Test rows: 1\n"
     ]
    }
   ],
   "source": [
    "ex_train_df = df.where(f\"rank <= {2915}\").drop(\"rank\")\n",
    "ex_test_df = df.where(f\"rank = {2916}\").drop(\"rank\")\n",
    "print(\"Train rows:\", ex_train_df.count())\n",
    "print(\"Test rows:\", ex_test_df.count())"
   ]
  },
  {
   "cell_type": "code",
   "execution_count": 39,
   "id": "boring-questionnaire",
   "metadata": {},
   "outputs": [],
   "source": [
    "## Pyspark로 2020년 1년치 교차검증하는 코드 만들기 ##\n",
    "all_rows = df.count()\n",
    "TRAIN_SPLIT = 365\n",
    "cv_periods = all_rows - TRAIN_SPLIT\n",
    "\n",
    "for i in range(cv_periods, all_rows):\n",
    "    train_df = df.where(f\"rank <= {i}\").drop(\"rank\")\n",
    "    test_df = df.where(f\"rank = {i+1}\").drop(\"rank\")\n",
    "    "
   ]
  },
  {
   "cell_type": "markdown",
   "id": "continent-sheep",
   "metadata": {},
   "source": [
    "## Scaling 하기"
   ]
  },
  {
   "cell_type": "code",
   "execution_count": null,
   "id": "rental-turkey",
   "metadata": {},
   "outputs": [],
   "source": [
    "# 먼저 Vector Assembler로 만들기"
   ]
  }
 ],
 "metadata": {
  "hide_input": false,
  "kernelspec": {
   "display_name": "Python 3",
   "language": "python",
   "name": "python3"
  },
  "toc": {
   "base_numbering": 1,
   "nav_menu": {},
   "number_sections": true,
   "sideBar": true,
   "skip_h1_title": false,
   "title_cell": "Table of Contents",
   "title_sidebar": "Contents",
   "toc_cell": true,
   "toc_position": {},
   "toc_section_display": true,
   "toc_window_display": false
  },
  "varInspector": {
   "cols": {
    "lenName": 16,
    "lenType": 16,
    "lenVar": 40
   },
   "kernels_config": {
    "python": {
     "delete_cmd_postfix": "",
     "delete_cmd_prefix": "del ",
     "library": "var_list.py",
     "varRefreshCmd": "print(var_dic_list())"
    },
    "r": {
     "delete_cmd_postfix": ") ",
     "delete_cmd_prefix": "rm(",
     "library": "var_list.r",
     "varRefreshCmd": "cat(var_dic_list()) "
    }
   },
   "types_to_exclude": [
    "module",
    "function",
    "builtin_function_or_method",
    "instance",
    "_Feature"
   ],
   "window_display": false
  }
 },
 "nbformat": 4,
 "nbformat_minor": 5
}
