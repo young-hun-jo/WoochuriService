{
 "cells": [
  {
   "cell_type": "markdown",
   "id": "appreciated-negative",
   "metadata": {
    "toc": true
   },
   "source": [
    "<h1>Table of Contents<span class=\"tocSkip\"></span></h1>\n",
    "<div class=\"toc\"><ul class=\"toc-item\"><li><span><a href=\"#2021년\" data-toc-modified-id=\"2021년-1\"><span class=\"toc-item-num\">1&nbsp;&nbsp;</span>2021년</a></span></li></ul></div>"
   ]
  },
  {
   "cell_type": "code",
   "execution_count": 44,
   "id": "enabling-interest",
   "metadata": {},
   "outputs": [],
   "source": [
    "import pandas as pd\n",
    "import numpy as np\n",
    "import os\n",
    "os.chdir('/Users/younghun/Desktop/gitrepo/data/woochuri/')"
   ]
  },
  {
   "cell_type": "code",
   "execution_count": 60,
   "id": "proof-nirvana",
   "metadata": {},
   "outputs": [],
   "source": [
    "data = pd.read_excel('./woochuri_sales_2009_2012.xlsx',\n",
    "                    usecols=[0, 1])\n",
    "data['datetime'] = pd.date_range(start='2009-01-01',\n",
    "                                 end='2013-01-06').strftime('%Y-%m-%d')\n",
    "# remark 결측치 -> 평일로 대체\n",
    "data['remark'] = data['remark'].fillna('평일')"
   ]
  },
  {
   "cell_type": "code",
   "execution_count": 61,
   "id": "dynamic-accommodation",
   "metadata": {},
   "outputs": [],
   "source": [
    "col_order = ['datetime', 'sales', 'remark']\n",
    "data = data[col_order]\n",
    "data.columns = ['날짜', '일매출', 'remark']"
   ]
  },
  {
   "cell_type": "code",
   "execution_count": 62,
   "id": "amazing-monitor",
   "metadata": {},
   "outputs": [],
   "source": [
    "sales_dict = {}\n",
    "sales_dict['날짜'] = data['날짜'].values.tolist()\n",
    "sales_dict['일매출'] = data['일매출'].values.tolist()\n",
    "sales_dict['remark'] = data['remark'].values.tolist()"
   ]
  },
  {
   "cell_type": "code",
   "execution_count": 64,
   "id": "competent-mongolia",
   "metadata": {},
   "outputs": [],
   "source": [
    "import pymysql\n",
    "\n",
    "db = pymysql.connect(host='localhost',\n",
    "                    user='younghun',\n",
    "                    password='watson1259',\n",
    "                    db='sales_db',\n",
    "                    charset='utf8')\n",
    "cursor = db.cursor()\n",
    "\n",
    "rows = zip(*sales_dict.values())\n",
    "for row in rows:\n",
    "    sql = \"\"\"INSERT INTO sales VALUES('\"\"\"+row[0]+\"\"\"',\n",
    "    '\"\"\"+str(row[1])+\"\"\"',\n",
    "    '\"\"\"+row[2]+\"\"\"')\"\"\"\n",
    "    \n",
    "    cursor.execute(sql)\n",
    "    db.commit()\n",
    "\n",
    "db.close()"
   ]
  },
  {
   "cell_type": "markdown",
   "id": "comparative-pilot",
   "metadata": {},
   "source": [
    "---\n",
    "# 2021년"
   ]
  },
  {
   "cell_type": "code",
   "execution_count": 1,
   "id": "unknown-running",
   "metadata": {},
   "outputs": [],
   "source": [
    "import pandas as pd\n",
    "import numpy as np\n",
    "import os\n",
    "os.chdir('/Users/younghun/Desktop/gitrepo/data/woochuri/')"
   ]
  },
  {
   "cell_type": "code",
   "execution_count": 3,
   "id": "fifth-orlando",
   "metadata": {},
   "outputs": [],
   "source": [
    "data = pd.read_excel('./woochuri_sales_2021.xlsx',\n",
    "                    usecols=[0, 1])\n",
    "data['datetime'] = pd.date_range(start='2021-01-01',\n",
    "                                 end='2021-03-23').strftime('%Y-%m-%d')\n",
    "# remark 결측치 -> 평일로 대체\n",
    "data['remark'] = data['remark'].fillna('평일')"
   ]
  },
  {
   "cell_type": "code",
   "execution_count": 5,
   "id": "announced-james",
   "metadata": {},
   "outputs": [],
   "source": [
    "col_order = ['datetime', 'sales', 'remark']\n",
    "data = data[col_order]\n",
    "data.columns = ['날짜', '일매출', 'remark']\n",
    "\n",
    "sales_dict = {}\n",
    "sales_dict['날짜'] = data['날짜'].values.tolist()\n",
    "sales_dict['일매출'] = data['일매출'].values.tolist()\n",
    "sales_dict['remark'] = data['remark'].values.tolist()"
   ]
  },
  {
   "cell_type": "code",
   "execution_count": 6,
   "id": "magnetic-gnome",
   "metadata": {},
   "outputs": [],
   "source": [
    "import pymysql\n",
    "\n",
    "db = pymysql.connect(host='localhost',\n",
    "                    user='younghun',\n",
    "                    password='watson1259',\n",
    "                    db='sales_db',\n",
    "                    charset='utf8')\n",
    "cursor = db.cursor()\n",
    "\n",
    "rows = zip(*sales_dict.values())\n",
    "for row in rows:\n",
    "    sql = \"\"\"INSERT INTO sales VALUES('\"\"\"+row[0]+\"\"\"',\n",
    "    '\"\"\"+str(row[1])+\"\"\"',\n",
    "    '\"\"\"+row[2]+\"\"\"')\"\"\"\n",
    "    \n",
    "    cursor.execute(sql)\n",
    "    db.commit()\n",
    "\n",
    "db.close()"
   ]
  },
  {
   "cell_type": "code",
   "execution_count": null,
   "id": "flush-argument",
   "metadata": {},
   "outputs": [],
   "source": []
  }
 ],
 "metadata": {
  "hide_input": false,
  "kernelspec": {
   "display_name": "Python 3",
   "language": "python",
   "name": "python3"
  },
  "language_info": {
   "codemirror_mode": {
    "name": "ipython",
    "version": 3
   },
   "file_extension": ".py",
   "mimetype": "text/x-python",
   "name": "python",
   "nbconvert_exporter": "python",
   "pygments_lexer": "ipython3",
   "version": "3.7.7"
  },
  "toc": {
   "base_numbering": 1,
   "nav_menu": {},
   "number_sections": true,
   "sideBar": true,
   "skip_h1_title": false,
   "title_cell": "Table of Contents",
   "title_sidebar": "Contents",
   "toc_cell": true,
   "toc_position": {},
   "toc_section_display": true,
   "toc_window_display": false
  },
  "varInspector": {
   "cols": {
    "lenName": 16,
    "lenType": 16,
    "lenVar": 40
   },
   "kernels_config": {
    "python": {
     "delete_cmd_postfix": "",
     "delete_cmd_prefix": "del ",
     "library": "var_list.py",
     "varRefreshCmd": "print(var_dic_list())"
    },
    "r": {
     "delete_cmd_postfix": ") ",
     "delete_cmd_prefix": "rm(",
     "library": "var_list.r",
     "varRefreshCmd": "cat(var_dic_list()) "
    }
   },
   "types_to_exclude": [
    "module",
    "function",
    "builtin_function_or_method",
    "instance",
    "_Feature"
   ],
   "window_display": false
  }
 },
 "nbformat": 4,
 "nbformat_minor": 5
}
