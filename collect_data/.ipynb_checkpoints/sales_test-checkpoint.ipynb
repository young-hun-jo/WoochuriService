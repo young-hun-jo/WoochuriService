{
 "cells": [
  {
   "cell_type": "markdown",
   "id": "brutal-dublin",
   "metadata": {
    "toc": true
   },
   "source": [
    "<h1>Table of Contents<span class=\"tocSkip\"></span></h1>\n",
    "<div class=\"toc\"><ul class=\"toc-item\"></ul></div>"
   ]
  },
  {
   "cell_type": "markdown",
   "id": "danish-stereo",
   "metadata": {},
   "source": [
    "- 요일별 매출 예측하기\n",
    "- 하지만 설날, 추석 주 평일은 평소와 달리 매출이 매우 높다..->매년 추석, 설날 주는 제외하고 학습시킬지!\n",
    "- ``특이휴무``인 날 왜 쉬웠는지..? 물어보기\n",
    "- 월별 특징이 잇을 것..! (12월엔 잘팔림..! 또는 연말이나 연초에는 잘팔리나!? 보고)"
   ]
  },
  {
   "cell_type": "code",
   "execution_count": 1,
   "id": "every-commerce",
   "metadata": {},
   "outputs": [],
   "source": [
    "import pandas as pd\n",
    "import numpy as np\n",
    "import os\n",
    "os.chdir('/Users/younghun/Desktop/gitrepo/data/woochuri/')"
   ]
  },
  {
   "cell_type": "code",
   "execution_count": 15,
   "id": "accepted-primary",
   "metadata": {},
   "outputs": [],
   "source": [
    "sale_1 = pd.read_excel('woochuri_sales.xlsx') # 2013-01-07 ~ 2020-12-31\n",
    "sale_2 = pd.read_excel('woochuri_sales_2009_2012.xlsx',\n",
    "                      usecols=[0, 1]) # 2009-01-01 ~ 2013-01-06\n",
    "sale_3 = pd.read_excel('woochuri_sales_2021.xlsx')"
   ]
  },
  {
   "cell_type": "code",
   "execution_count": 17,
   "id": "historical-failure",
   "metadata": {},
   "outputs": [],
   "source": [
    "datetime = pd.Series(pd.date_range(start='2013-01-07',\n",
    "                                   end='2020-12-31',\n",
    "                                   freq='D').strftime(\"%Y-%m-%d\"))\n",
    "sale_1['datetime'] = datetime\n",
    "sale_1['remark'] = sale_1['remark'].fillna('평일')"
   ]
  },
  {
   "cell_type": "code",
   "execution_count": 18,
   "id": "promotional-catch",
   "metadata": {},
   "outputs": [],
   "source": [
    "datetime = pd.Series(pd.date_range(start='2009-01-01',\n",
    "                                   end='2013-01-06',\n",
    "                                   freq='D').strftime(\"%Y-%m-%d\"))\n",
    "sale_2['datetime'] = datetime\n",
    "sale_2['remark'] = sale_2['remark'].fillna('평일')"
   ]
  },
  {
   "cell_type": "code",
   "execution_count": 25,
   "id": "meaningful-appointment",
   "metadata": {},
   "outputs": [],
   "source": [
    "datetime = pd.Series(pd.date_range(start='2021-01-01',\n",
    "                                   end='2021-03-23',\n",
    "                                   freq='D').strftime(\"%Y-%m-%d\"))\n",
    "sale_3['datetime'] = datetime\n",
    "sale_3['remark'] = sale_3['remark'].fillna('평일')"
   ]
  },
  {
   "cell_type": "code",
   "execution_count": 27,
   "id": "surprised-spelling",
   "metadata": {},
   "outputs": [],
   "source": [
    "sales = pd.concat([sale_1, sale_2, sale_3], axis=0)\n",
    "sales = sales.sort_values(by='datetime')"
   ]
  },
  {
   "cell_type": "code",
   "execution_count": 29,
   "id": "active-nudist",
   "metadata": {},
   "outputs": [],
   "source": [
    "sales_dict = {}\n",
    "sales_dict['날짜'] = sales['datetime'].values.tolist()\n",
    "sales_dict['일매출'] = sales['sales'].values.tolist()\n",
    "sales_dict['remark'] = sales['remark'].values.tolist()"
   ]
  },
  {
   "cell_type": "code",
   "execution_count": 30,
   "id": "interstate-wallet",
   "metadata": {},
   "outputs": [],
   "source": [
    "import pymysql\n",
    "db = pymysql.connect(host='localhost',\n",
    "                    user='root',\n",
    "                    password='watson1259@',\n",
    "                    db='sales_db',\n",
    "                    charset='utf8')\n",
    "cursor = db.cursor()\n",
    "\n",
    "rows = map(list, zip(*sales_dict.values()))\n",
    "for row in rows:\n",
    "    sql = \"\"\"INSERT INTO sales VALUES('\"\"\"+row[0]+\"\"\"',\n",
    "    '\"\"\"+str(row[1])+\"\"\"',\n",
    "    '\"\"\"+row[2]+\"\"\"')\"\"\"\n",
    "    cursor.execute(sql)\n",
    "    db.commit()\n",
    "\n",
    "db.close()"
   ]
  },
  {
   "cell_type": "code",
   "execution_count": null,
   "id": "normal-moldova",
   "metadata": {},
   "outputs": [],
   "source": []
  }
 ],
 "metadata": {
  "hide_input": false,
  "kernelspec": {
   "display_name": "Python 3",
   "language": "python",
   "name": "python3"
  },
  "language_info": {
   "codemirror_mode": {
    "name": "ipython",
    "version": 3
   },
   "file_extension": ".py",
   "mimetype": "text/x-python",
   "name": "python",
   "nbconvert_exporter": "python",
   "pygments_lexer": "ipython3",
   "version": "3.7.7"
  },
  "toc": {
   "base_numbering": 1,
   "nav_menu": {},
   "number_sections": true,
   "sideBar": true,
   "skip_h1_title": false,
   "title_cell": "Table of Contents",
   "title_sidebar": "Contents",
   "toc_cell": true,
   "toc_position": {},
   "toc_section_display": true,
   "toc_window_display": false
  },
  "varInspector": {
   "cols": {
    "lenName": 16,
    "lenType": 16,
    "lenVar": 40
   },
   "kernels_config": {
    "python": {
     "delete_cmd_postfix": "",
     "delete_cmd_prefix": "del ",
     "library": "var_list.py",
     "varRefreshCmd": "print(var_dic_list())"
    },
    "r": {
     "delete_cmd_postfix": ") ",
     "delete_cmd_prefix": "rm(",
     "library": "var_list.r",
     "varRefreshCmd": "cat(var_dic_list()) "
    }
   },
   "types_to_exclude": [
    "module",
    "function",
    "builtin_function_or_method",
    "instance",
    "_Feature"
   ],
   "window_display": false
  }
 },
 "nbformat": 4,
 "nbformat_minor": 5
}
